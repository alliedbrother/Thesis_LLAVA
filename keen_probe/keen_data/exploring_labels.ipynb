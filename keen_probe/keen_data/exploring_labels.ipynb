{
 "cells": [
  {
   "cell_type": "code",
   "execution_count": 1,
   "metadata": {},
   "outputs": [],
   "source": [
    "import pandas as pd\n",
    "import numpy as np"
   ]
  },
  {
   "cell_type": "code",
   "execution_count": 2,
   "metadata": {},
   "outputs": [],
   "source": [
    "data = pd.read_csv('labels.csv')"
   ]
  },
  {
   "cell_type": "code",
   "execution_count": 3,
   "metadata": {},
   "outputs": [
    {
     "data": {
      "text/plain": [
       "(27000, 12)"
      ]
     },
     "execution_count": 3,
     "metadata": {},
     "output_type": "execute_result"
    }
   ],
   "source": [
    "data.shape"
   ]
  },
  {
   "cell_type": "code",
   "execution_count": 4,
   "metadata": {},
   "outputs": [
    {
     "data": {
      "text/plain": [
       "Index(['BLEU-1', 'BLEU-2', 'BLEU-3', 'BLEU-4', 'CIDEr', 'METEOR',\n",
       "       'generated_caption', 'image_id', 'chair_hallucinated_objects_count',\n",
       "       'chair_hallucinated_objects_list', 'chair_has_hallucination',\n",
       "       'chair_mentioned_objects_count'],\n",
       "      dtype='object')"
      ]
     },
     "execution_count": 4,
     "metadata": {},
     "output_type": "execute_result"
    }
   ],
   "source": [
    "data.columns"
   ]
  },
  {
   "cell_type": "code",
   "execution_count": 5,
   "metadata": {},
   "outputs": [
    {
     "data": {
      "text/html": [
       "<div>\n",
       "<style scoped>\n",
       "    .dataframe tbody tr th:only-of-type {\n",
       "        vertical-align: middle;\n",
       "    }\n",
       "\n",
       "    .dataframe tbody tr th {\n",
       "        vertical-align: top;\n",
       "    }\n",
       "\n",
       "    .dataframe thead th {\n",
       "        text-align: right;\n",
       "    }\n",
       "</style>\n",
       "<table border=\"1\" class=\"dataframe\">\n",
       "  <thead>\n",
       "    <tr style=\"text-align: right;\">\n",
       "      <th></th>\n",
       "      <th>BLEU-1</th>\n",
       "      <th>BLEU-2</th>\n",
       "      <th>BLEU-3</th>\n",
       "      <th>BLEU-4</th>\n",
       "      <th>CIDEr</th>\n",
       "      <th>METEOR</th>\n",
       "      <th>generated_caption</th>\n",
       "      <th>image_id</th>\n",
       "      <th>chair_hallucinated_objects_count</th>\n",
       "      <th>chair_hallucinated_objects_list</th>\n",
       "      <th>chair_has_hallucination</th>\n",
       "      <th>chair_mentioned_objects_count</th>\n",
       "    </tr>\n",
       "  </thead>\n",
       "  <tbody>\n",
       "    <tr>\n",
       "      <th>0</th>\n",
       "      <td>0.387097</td>\n",
       "      <td>0.278243</td>\n",
       "      <td>0.220210</td>\n",
       "      <td>1.661866e-01</td>\n",
       "      <td>0.001916</td>\n",
       "      <td>0.328176</td>\n",
       "      <td>A group of people are waiting at a train stati...</td>\n",
       "      <td>COCO_train2014_000000540082</td>\n",
       "      <td>0</td>\n",
       "      <td>NaN</td>\n",
       "      <td>0</td>\n",
       "      <td>2</td>\n",
       "    </tr>\n",
       "    <tr>\n",
       "      <th>1</th>\n",
       "      <td>0.450000</td>\n",
       "      <td>0.153897</td>\n",
       "      <td>0.000001</td>\n",
       "      <td>2.966090e-09</td>\n",
       "      <td>0.145545</td>\n",
       "      <td>0.229827</td>\n",
       "      <td>A large brown dog is playfully biting a small ...</td>\n",
       "      <td>COCO_train2014_000000540092</td>\n",
       "      <td>0</td>\n",
       "      <td>NaN</td>\n",
       "      <td>0</td>\n",
       "      <td>1</td>\n",
       "    </tr>\n",
       "    <tr>\n",
       "      <th>2</th>\n",
       "      <td>0.666667</td>\n",
       "      <td>0.408248</td>\n",
       "      <td>0.287685</td>\n",
       "      <td>4.463236e-05</td>\n",
       "      <td>1.068260</td>\n",
       "      <td>0.232301</td>\n",
       "      <td>A restaurant with a long bar and several tables.</td>\n",
       "      <td>COCO_train2014_000000540097</td>\n",
       "      <td>0</td>\n",
       "      <td>NaN</td>\n",
       "      <td>0</td>\n",
       "      <td>1</td>\n",
       "    </tr>\n",
       "    <tr>\n",
       "      <th>3</th>\n",
       "      <td>0.900000</td>\n",
       "      <td>0.707107</td>\n",
       "      <td>0.396850</td>\n",
       "      <td>5.466326e-05</td>\n",
       "      <td>0.974929</td>\n",
       "      <td>0.345303</td>\n",
       "      <td>A plate of food with broccoli and cheese on top.</td>\n",
       "      <td>COCO_train2014_000000540100</td>\n",
       "      <td>0</td>\n",
       "      <td>NaN</td>\n",
       "      <td>0</td>\n",
       "      <td>1</td>\n",
       "    </tr>\n",
       "    <tr>\n",
       "      <th>4</th>\n",
       "      <td>0.500000</td>\n",
       "      <td>0.316228</td>\n",
       "      <td>0.192586</td>\n",
       "      <td>2.722589e-05</td>\n",
       "      <td>0.354496</td>\n",
       "      <td>0.255277</td>\n",
       "      <td>A clock tower with a gold and black clock face...</td>\n",
       "      <td>COCO_train2014_000000540103</td>\n",
       "      <td>0</td>\n",
       "      <td>NaN</td>\n",
       "      <td>0</td>\n",
       "      <td>1</td>\n",
       "    </tr>\n",
       "  </tbody>\n",
       "</table>\n",
       "</div>"
      ],
      "text/plain": [
       "     BLEU-1    BLEU-2    BLEU-3        BLEU-4     CIDEr    METEOR  \\\n",
       "0  0.387097  0.278243  0.220210  1.661866e-01  0.001916  0.328176   \n",
       "1  0.450000  0.153897  0.000001  2.966090e-09  0.145545  0.229827   \n",
       "2  0.666667  0.408248  0.287685  4.463236e-05  1.068260  0.232301   \n",
       "3  0.900000  0.707107  0.396850  5.466326e-05  0.974929  0.345303   \n",
       "4  0.500000  0.316228  0.192586  2.722589e-05  0.354496  0.255277   \n",
       "\n",
       "                                   generated_caption  \\\n",
       "0  A group of people are waiting at a train stati...   \n",
       "1  A large brown dog is playfully biting a small ...   \n",
       "2   A restaurant with a long bar and several tables.   \n",
       "3   A plate of food with broccoli and cheese on top.   \n",
       "4  A clock tower with a gold and black clock face...   \n",
       "\n",
       "                      image_id  chair_hallucinated_objects_count  \\\n",
       "0  COCO_train2014_000000540082                                 0   \n",
       "1  COCO_train2014_000000540092                                 0   \n",
       "2  COCO_train2014_000000540097                                 0   \n",
       "3  COCO_train2014_000000540100                                 0   \n",
       "4  COCO_train2014_000000540103                                 0   \n",
       "\n",
       "  chair_hallucinated_objects_list  chair_has_hallucination  \\\n",
       "0                             NaN                        0   \n",
       "1                             NaN                        0   \n",
       "2                             NaN                        0   \n",
       "3                             NaN                        0   \n",
       "4                             NaN                        0   \n",
       "\n",
       "   chair_mentioned_objects_count  \n",
       "0                              2  \n",
       "1                              1  \n",
       "2                              1  \n",
       "3                              1  \n",
       "4                              1  "
      ]
     },
     "execution_count": 5,
     "metadata": {},
     "output_type": "execute_result"
    }
   ],
   "source": [
    "data.head()"
   ]
  },
  {
   "cell_type": "code",
   "execution_count": 6,
   "metadata": {},
   "outputs": [
    {
     "data": {
      "text/html": [
       "<div>\n",
       "<style scoped>\n",
       "    .dataframe tbody tr th:only-of-type {\n",
       "        vertical-align: middle;\n",
       "    }\n",
       "\n",
       "    .dataframe tbody tr th {\n",
       "        vertical-align: top;\n",
       "    }\n",
       "\n",
       "    .dataframe thead th {\n",
       "        text-align: right;\n",
       "    }\n",
       "</style>\n",
       "<table border=\"1\" class=\"dataframe\">\n",
       "  <thead>\n",
       "    <tr style=\"text-align: right;\">\n",
       "      <th></th>\n",
       "      <th>BLEU-1</th>\n",
       "      <th>BLEU-2</th>\n",
       "      <th>BLEU-3</th>\n",
       "      <th>BLEU-4</th>\n",
       "      <th>CIDEr</th>\n",
       "      <th>METEOR</th>\n",
       "      <th>chair_hallucinated_objects_count</th>\n",
       "      <th>chair_has_hallucination</th>\n",
       "      <th>chair_mentioned_objects_count</th>\n",
       "    </tr>\n",
       "  </thead>\n",
       "  <tbody>\n",
       "    <tr>\n",
       "      <th>count</th>\n",
       "      <td>27000.000000</td>\n",
       "      <td>2.700000e+04</td>\n",
       "      <td>2.700000e+04</td>\n",
       "      <td>2.700000e+04</td>\n",
       "      <td>2.700000e+04</td>\n",
       "      <td>27000.000000</td>\n",
       "      <td>27000.000000</td>\n",
       "      <td>27000.000000</td>\n",
       "      <td>27000.000000</td>\n",
       "    </tr>\n",
       "    <tr>\n",
       "      <th>mean</th>\n",
       "      <td>0.669780</td>\n",
       "      <td>4.975785e-01</td>\n",
       "      <td>3.285126e-01</td>\n",
       "      <td>1.819649e-01</td>\n",
       "      <td>8.325833e-01</td>\n",
       "      <td>0.305340</td>\n",
       "      <td>0.213704</td>\n",
       "      <td>0.170037</td>\n",
       "      <td>1.657815</td>\n",
       "    </tr>\n",
       "    <tr>\n",
       "      <th>std</th>\n",
       "      <td>0.164550</td>\n",
       "      <td>1.875663e-01</td>\n",
       "      <td>2.191731e-01</td>\n",
       "      <td>2.173556e-01</td>\n",
       "      <td>6.576043e-01</td>\n",
       "      <td>0.089988</td>\n",
       "      <td>0.537939</td>\n",
       "      <td>0.375672</td>\n",
       "      <td>0.904236</td>\n",
       "    </tr>\n",
       "    <tr>\n",
       "      <th>min</th>\n",
       "      <td>0.133333</td>\n",
       "      <td>2.312486e-09</td>\n",
       "      <td>5.508113e-12</td>\n",
       "      <td>2.709641e-13</td>\n",
       "      <td>1.669540e-08</td>\n",
       "      <td>0.044077</td>\n",
       "      <td>0.000000</td>\n",
       "      <td>0.000000</td>\n",
       "      <td>0.000000</td>\n",
       "    </tr>\n",
       "    <tr>\n",
       "      <th>25%</th>\n",
       "      <td>0.555556</td>\n",
       "      <td>3.638034e-01</td>\n",
       "      <td>1.974023e-01</td>\n",
       "      <td>2.829560e-05</td>\n",
       "      <td>3.609666e-01</td>\n",
       "      <td>0.243674</td>\n",
       "      <td>0.000000</td>\n",
       "      <td>0.000000</td>\n",
       "      <td>1.000000</td>\n",
       "    </tr>\n",
       "    <tr>\n",
       "      <th>50%</th>\n",
       "      <td>0.666667</td>\n",
       "      <td>4.924058e-01</td>\n",
       "      <td>3.313008e-01</td>\n",
       "      <td>6.238986e-05</td>\n",
       "      <td>6.896442e-01</td>\n",
       "      <td>0.298988</td>\n",
       "      <td>0.000000</td>\n",
       "      <td>0.000000</td>\n",
       "      <td>2.000000</td>\n",
       "    </tr>\n",
       "    <tr>\n",
       "      <th>75%</th>\n",
       "      <td>0.785714</td>\n",
       "      <td>6.201737e-01</td>\n",
       "      <td>4.716122e-01</td>\n",
       "      <td>3.405205e-01</td>\n",
       "      <td>1.148262e+00</td>\n",
       "      <td>0.360505</td>\n",
       "      <td>0.000000</td>\n",
       "      <td>0.000000</td>\n",
       "      <td>2.000000</td>\n",
       "    </tr>\n",
       "    <tr>\n",
       "      <th>max</th>\n",
       "      <td>1.000000</td>\n",
       "      <td>1.000000e+00</td>\n",
       "      <td>1.000000e+00</td>\n",
       "      <td>1.000000e+00</td>\n",
       "      <td>6.461902e+00</td>\n",
       "      <td>1.000000</td>\n",
       "      <td>7.000000</td>\n",
       "      <td>1.000000</td>\n",
       "      <td>8.000000</td>\n",
       "    </tr>\n",
       "  </tbody>\n",
       "</table>\n",
       "</div>"
      ],
      "text/plain": [
       "             BLEU-1        BLEU-2        BLEU-3        BLEU-4         CIDEr  \\\n",
       "count  27000.000000  2.700000e+04  2.700000e+04  2.700000e+04  2.700000e+04   \n",
       "mean       0.669780  4.975785e-01  3.285126e-01  1.819649e-01  8.325833e-01   \n",
       "std        0.164550  1.875663e-01  2.191731e-01  2.173556e-01  6.576043e-01   \n",
       "min        0.133333  2.312486e-09  5.508113e-12  2.709641e-13  1.669540e-08   \n",
       "25%        0.555556  3.638034e-01  1.974023e-01  2.829560e-05  3.609666e-01   \n",
       "50%        0.666667  4.924058e-01  3.313008e-01  6.238986e-05  6.896442e-01   \n",
       "75%        0.785714  6.201737e-01  4.716122e-01  3.405205e-01  1.148262e+00   \n",
       "max        1.000000  1.000000e+00  1.000000e+00  1.000000e+00  6.461902e+00   \n",
       "\n",
       "             METEOR  chair_hallucinated_objects_count  \\\n",
       "count  27000.000000                      27000.000000   \n",
       "mean       0.305340                          0.213704   \n",
       "std        0.089988                          0.537939   \n",
       "min        0.044077                          0.000000   \n",
       "25%        0.243674                          0.000000   \n",
       "50%        0.298988                          0.000000   \n",
       "75%        0.360505                          0.000000   \n",
       "max        1.000000                          7.000000   \n",
       "\n",
       "       chair_has_hallucination  chair_mentioned_objects_count  \n",
       "count             27000.000000                   27000.000000  \n",
       "mean                  0.170037                       1.657815  \n",
       "std                   0.375672                       0.904236  \n",
       "min                   0.000000                       0.000000  \n",
       "25%                   0.000000                       1.000000  \n",
       "50%                   0.000000                       2.000000  \n",
       "75%                   0.000000                       2.000000  \n",
       "max                   1.000000                       8.000000  "
      ]
     },
     "execution_count": 6,
     "metadata": {},
     "output_type": "execute_result"
    }
   ],
   "source": [
    "data.describe()"
   ]
  },
  {
   "cell_type": "code",
   "execution_count": 8,
   "metadata": {},
   "outputs": [
    {
     "data": {
      "text/plain": [
       "chair_hallucinated_objects_count\n",
       "0    22409\n",
       "1     3727\n",
       "2      653\n",
       "3      138\n",
       "4       50\n",
       "5       16\n",
       "6        6\n",
       "7        1\n",
       "Name: count, dtype: int64"
      ]
     },
     "execution_count": 8,
     "metadata": {},
     "output_type": "execute_result"
    }
   ],
   "source": [
    "data.chair_hallucinated_objects_count.value_counts()"
   ]
  },
  {
   "cell_type": "code",
   "execution_count": 9,
   "metadata": {},
   "outputs": [
    {
     "data": {
      "text/plain": [
       "chair_has_hallucination\n",
       "0    22409\n",
       "1     4591\n",
       "Name: count, dtype: int64"
      ]
     },
     "execution_count": 9,
     "metadata": {},
     "output_type": "execute_result"
    }
   ],
   "source": [
    "data.chair_has_hallucination.value_counts()"
   ]
  },
  {
   "cell_type": "code",
   "execution_count": 10,
   "metadata": {},
   "outputs": [
    {
     "data": {
      "text/plain": [
       "chair_mentioned_objects_count\n",
       "2    10615\n",
       "1    10594\n",
       "3     3319\n",
       "0     1789\n",
       "4      511\n",
       "5      115\n",
       "6       41\n",
       "7       13\n",
       "8        3\n",
       "Name: count, dtype: int64"
      ]
     },
     "execution_count": 10,
     "metadata": {},
     "output_type": "execute_result"
    }
   ],
   "source": [
    "data.chair_mentioned_objects_count.value_counts()"
   ]
  },
  {
   "cell_type": "code",
   "execution_count": 12,
   "metadata": {},
   "outputs": [
    {
     "name": "stdout",
     "output_type": "stream",
     "text": [
      "<class 'pandas.core.series.Series'>\n",
      "RangeIndex: 27000 entries, 0 to 26999\n",
      "Series name: chair_hallucinated_objects_list\n",
      "Non-Null Count  Dtype \n",
      "--------------  ----- \n",
      "4591 non-null   object\n",
      "dtypes: object(1)\n",
      "memory usage: 211.1+ KB\n"
     ]
    }
   ],
   "source": [
    "data.chair_hallucinated_objects_list.info()"
   ]
  },
  {
   "cell_type": "code",
   "execution_count": 13,
   "metadata": {},
   "outputs": [
    {
     "name": "stdout",
     "output_type": "stream",
     "text": [
      "<class 'pandas.core.frame.DataFrame'>\n",
      "RangeIndex: 27000 entries, 0 to 26999\n",
      "Data columns (total 12 columns):\n",
      " #   Column                            Non-Null Count  Dtype  \n",
      "---  ------                            --------------  -----  \n",
      " 0   BLEU-1                            27000 non-null  float64\n",
      " 1   BLEU-2                            27000 non-null  float64\n",
      " 2   BLEU-3                            27000 non-null  float64\n",
      " 3   BLEU-4                            27000 non-null  float64\n",
      " 4   CIDEr                             27000 non-null  float64\n",
      " 5   METEOR                            27000 non-null  float64\n",
      " 6   generated_caption                 27000 non-null  object \n",
      " 7   image_id                          27000 non-null  object \n",
      " 8   chair_hallucinated_objects_count  27000 non-null  int64  \n",
      " 9   chair_hallucinated_objects_list   4591 non-null   object \n",
      " 10  chair_has_hallucination           27000 non-null  int64  \n",
      " 11  chair_mentioned_objects_count     27000 non-null  int64  \n",
      "dtypes: float64(6), int64(3), object(3)\n",
      "memory usage: 2.5+ MB\n"
     ]
    }
   ],
   "source": [
    "data.info()"
   ]
  },
  {
   "cell_type": "code",
   "execution_count": null,
   "metadata": {},
   "outputs": [],
   "source": []
  },
  {
   "cell_type": "code",
   "execution_count": null,
   "metadata": {},
   "outputs": [],
   "source": []
  },
  {
   "cell_type": "code",
   "execution_count": null,
   "metadata": {},
   "outputs": [],
   "source": []
  },
  {
   "cell_type": "code",
   "execution_count": null,
   "metadata": {},
   "outputs": [],
   "source": []
  },
  {
   "cell_type": "code",
   "execution_count": null,
   "metadata": {},
   "outputs": [],
   "source": []
  },
  {
   "cell_type": "code",
   "execution_count": null,
   "metadata": {},
   "outputs": [],
   "source": []
  },
  {
   "cell_type": "code",
   "execution_count": null,
   "metadata": {},
   "outputs": [],
   "source": []
  },
  {
   "cell_type": "code",
   "execution_count": null,
   "metadata": {},
   "outputs": [],
   "source": []
  },
  {
   "cell_type": "code",
   "execution_count": null,
   "metadata": {},
   "outputs": [],
   "source": []
  },
  {
   "cell_type": "code",
   "execution_count": null,
   "metadata": {},
   "outputs": [],
   "source": []
  },
  {
   "cell_type": "code",
   "execution_count": null,
   "metadata": {},
   "outputs": [],
   "source": []
  },
  {
   "cell_type": "code",
   "execution_count": null,
   "metadata": {},
   "outputs": [],
   "source": []
  },
  {
   "cell_type": "code",
   "execution_count": null,
   "metadata": {},
   "outputs": [],
   "source": []
  },
  {
   "cell_type": "code",
   "execution_count": null,
   "metadata": {},
   "outputs": [],
   "source": []
  },
  {
   "cell_type": "code",
   "execution_count": null,
   "metadata": {},
   "outputs": [],
   "source": []
  },
  {
   "cell_type": "code",
   "execution_count": null,
   "metadata": {},
   "outputs": [],
   "source": []
  },
  {
   "cell_type": "code",
   "execution_count": null,
   "metadata": {},
   "outputs": [],
   "source": []
  },
  {
   "cell_type": "code",
   "execution_count": null,
   "metadata": {},
   "outputs": [],
   "source": []
  },
  {
   "cell_type": "code",
   "execution_count": null,
   "metadata": {},
   "outputs": [],
   "source": []
  },
  {
   "cell_type": "code",
   "execution_count": null,
   "metadata": {},
   "outputs": [],
   "source": []
  }
 ],
 "metadata": {
  "kernelspec": {
   "display_name": "keen1",
   "language": "python",
   "name": "python3"
  },
  "language_info": {
   "codemirror_mode": {
    "name": "ipython",
    "version": 3
   },
   "file_extension": ".py",
   "mimetype": "text/x-python",
   "name": "python",
   "nbconvert_exporter": "python",
   "pygments_lexer": "ipython3",
   "version": "3.10.14"
  }
 },
 "nbformat": 4,
 "nbformat_minor": 2
}
