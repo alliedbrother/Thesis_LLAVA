{
 "cells": [
  {
   "cell_type": "code",
   "execution_count": 1,
   "metadata": {},
   "outputs": [],
   "source": [
    "import numpy as np \n",
    "import pandas as pd\n",
    "import matplotlib.pyplot as plt"
   ]
  },
  {
   "cell_type": "code",
   "execution_count": 3,
   "metadata": {},
   "outputs": [],
   "source": [
    "data = pd.read_csv(\"labels_paligemma.csv\")"
   ]
  },
  {
   "cell_type": "code",
   "execution_count": 4,
   "metadata": {},
   "outputs": [
    {
     "data": {
      "text/html": [
       "<div>\n",
       "<style scoped>\n",
       "    .dataframe tbody tr th:only-of-type {\n",
       "        vertical-align: middle;\n",
       "    }\n",
       "\n",
       "    .dataframe tbody tr th {\n",
       "        vertical-align: top;\n",
       "    }\n",
       "\n",
       "    .dataframe thead th {\n",
       "        text-align: right;\n",
       "    }\n",
       "</style>\n",
       "<table border=\"1\" class=\"dataframe\">\n",
       "  <thead>\n",
       "    <tr style=\"text-align: right;\">\n",
       "      <th></th>\n",
       "      <th>BLEU-1</th>\n",
       "      <th>BLEU-2</th>\n",
       "      <th>BLEU-3</th>\n",
       "      <th>BLEU-4</th>\n",
       "      <th>CIDEr</th>\n",
       "      <th>METEOR</th>\n",
       "      <th>generated_caption</th>\n",
       "      <th>image_id</th>\n",
       "      <th>chair_hallucinated_objects_count</th>\n",
       "      <th>chair_hallucinated_objects_list</th>\n",
       "      <th>chair_has_hallucination</th>\n",
       "      <th>chair_mentioned_objects_count</th>\n",
       "    </tr>\n",
       "  </thead>\n",
       "  <tbody>\n",
       "    <tr>\n",
       "      <th>0</th>\n",
       "      <td>8.333333e-17</td>\n",
       "      <td>8.703883e-17</td>\n",
       "      <td>9.116092e-17</td>\n",
       "      <td>9.578464e-17</td>\n",
       "      <td>0.000000</td>\n",
       "      <td>0.040336</td>\n",
       "      <td>How does the image make you feel? What do you ...</td>\n",
       "      <td>COCO_train2014_000000000009</td>\n",
       "      <td>0</td>\n",
       "      <td>NaN</td>\n",
       "      <td>0</td>\n",
       "      <td>0</td>\n",
       "    </tr>\n",
       "    <tr>\n",
       "      <th>1</th>\n",
       "      <td>4.104250e-02</td>\n",
       "      <td>1.835476e-09</td>\n",
       "      <td>6.515091e-09</td>\n",
       "      <td>1.227457e-08</td>\n",
       "      <td>0.210163</td>\n",
       "      <td>0.082474</td>\n",
       "      <td>giraffe&lt;eos&gt;</td>\n",
       "      <td>COCO_train2014_000000000025</td>\n",
       "      <td>0</td>\n",
       "      <td>NaN</td>\n",
       "      <td>0</td>\n",
       "      <td>1</td>\n",
       "    </tr>\n",
       "    <tr>\n",
       "      <th>2</th>\n",
       "      <td>1.111111e-16</td>\n",
       "      <td>1.178511e-16</td>\n",
       "      <td>1.256579e-16</td>\n",
       "      <td>1.348511e-16</td>\n",
       "      <td>0.000000</td>\n",
       "      <td>0.015686</td>\n",
       "      <td>Do not include words that are not necessary.&lt;eos&gt;</td>\n",
       "      <td>COCO_train2014_000000000030</td>\n",
       "      <td>0</td>\n",
       "      <td>NaN</td>\n",
       "      <td>0</td>\n",
       "      <td>0</td>\n",
       "    </tr>\n",
       "    <tr>\n",
       "      <th>3</th>\n",
       "      <td>1.238397e-01</td>\n",
       "      <td>4.229931e-09</td>\n",
       "      <td>1.458427e-11</td>\n",
       "      <td>9.054993e-13</td>\n",
       "      <td>0.000836</td>\n",
       "      <td>0.042911</td>\n",
       "      <td>How can you describe the image?&lt;eos&gt;</td>\n",
       "      <td>COCO_train2014_000000000034</td>\n",
       "      <td>0</td>\n",
       "      <td>NaN</td>\n",
       "      <td>0</td>\n",
       "      <td>0</td>\n",
       "    </tr>\n",
       "    <tr>\n",
       "      <th>4</th>\n",
       "      <td>7.692308e-02</td>\n",
       "      <td>2.531848e-09</td>\n",
       "      <td>8.352713e-12</td>\n",
       "      <td>4.913271e-13</td>\n",
       "      <td>0.000209</td>\n",
       "      <td>0.077890</td>\n",
       "      <td>How do you know? What makes you think that's t...</td>\n",
       "      <td>COCO_train2014_000000000036</td>\n",
       "      <td>0</td>\n",
       "      <td>NaN</td>\n",
       "      <td>0</td>\n",
       "      <td>0</td>\n",
       "    </tr>\n",
       "  </tbody>\n",
       "</table>\n",
       "</div>"
      ],
      "text/plain": [
       "         BLEU-1        BLEU-2        BLEU-3        BLEU-4     CIDEr    METEOR  \\\n",
       "0  8.333333e-17  8.703883e-17  9.116092e-17  9.578464e-17  0.000000  0.040336   \n",
       "1  4.104250e-02  1.835476e-09  6.515091e-09  1.227457e-08  0.210163  0.082474   \n",
       "2  1.111111e-16  1.178511e-16  1.256579e-16  1.348511e-16  0.000000  0.015686   \n",
       "3  1.238397e-01  4.229931e-09  1.458427e-11  9.054993e-13  0.000836  0.042911   \n",
       "4  7.692308e-02  2.531848e-09  8.352713e-12  4.913271e-13  0.000209  0.077890   \n",
       "\n",
       "                                   generated_caption  \\\n",
       "0  How does the image make you feel? What do you ...   \n",
       "1                                       giraffe<eos>   \n",
       "2  Do not include words that are not necessary.<eos>   \n",
       "3               How can you describe the image?<eos>   \n",
       "4  How do you know? What makes you think that's t...   \n",
       "\n",
       "                      image_id  chair_hallucinated_objects_count  \\\n",
       "0  COCO_train2014_000000000009                                 0   \n",
       "1  COCO_train2014_000000000025                                 0   \n",
       "2  COCO_train2014_000000000030                                 0   \n",
       "3  COCO_train2014_000000000034                                 0   \n",
       "4  COCO_train2014_000000000036                                 0   \n",
       "\n",
       "  chair_hallucinated_objects_list  chair_has_hallucination  \\\n",
       "0                             NaN                        0   \n",
       "1                             NaN                        0   \n",
       "2                             NaN                        0   \n",
       "3                             NaN                        0   \n",
       "4                             NaN                        0   \n",
       "\n",
       "   chair_mentioned_objects_count  \n",
       "0                              0  \n",
       "1                              1  \n",
       "2                              0  \n",
       "3                              0  \n",
       "4                              0  "
      ]
     },
     "execution_count": 4,
     "metadata": {},
     "output_type": "execute_result"
    }
   ],
   "source": [
    "data.head()"
   ]
  },
  {
   "cell_type": "code",
   "execution_count": 5,
   "metadata": {},
   "outputs": [
    {
     "name": "stdout",
     "output_type": "stream",
     "text": [
      "<class 'pandas.core.frame.DataFrame'>\n",
      "RangeIndex: 3125 entries, 0 to 3124\n",
      "Data columns (total 12 columns):\n",
      " #   Column                            Non-Null Count  Dtype  \n",
      "---  ------                            --------------  -----  \n",
      " 0   BLEU-1                            3125 non-null   float64\n",
      " 1   BLEU-2                            3125 non-null   float64\n",
      " 2   BLEU-3                            3125 non-null   float64\n",
      " 3   BLEU-4                            3125 non-null   float64\n",
      " 4   CIDEr                             3125 non-null   float64\n",
      " 5   METEOR                            3125 non-null   float64\n",
      " 6   generated_caption                 3125 non-null   object \n",
      " 7   image_id                          3125 non-null   object \n",
      " 8   chair_hallucinated_objects_count  3125 non-null   int64  \n",
      " 9   chair_hallucinated_objects_list   180 non-null    object \n",
      " 10  chair_has_hallucination           3125 non-null   int64  \n",
      " 11  chair_mentioned_objects_count     3125 non-null   int64  \n",
      "dtypes: float64(6), int64(3), object(3)\n",
      "memory usage: 293.1+ KB\n"
     ]
    }
   ],
   "source": [
    "data.info()\n"
   ]
  },
  {
   "cell_type": "code",
   "execution_count": 6,
   "metadata": {},
   "outputs": [
    {
     "data": {
      "text/plain": [
       "chair_hallucinated_objects_count\n",
       "0    2945\n",
       "1     153\n",
       "2      19\n",
       "3       6\n",
       "4       2\n",
       "Name: count, dtype: int64"
      ]
     },
     "execution_count": 6,
     "metadata": {},
     "output_type": "execute_result"
    }
   ],
   "source": [
    "data.chair_hallucinated_objects_count.value_counts()"
   ]
  },
  {
   "cell_type": "code",
   "execution_count": 7,
   "metadata": {},
   "outputs": [
    {
     "data": {
      "text/plain": [
       "chair_has_hallucination\n",
       "0    2945\n",
       "1     180\n",
       "Name: count, dtype: int64"
      ]
     },
     "execution_count": 7,
     "metadata": {},
     "output_type": "execute_result"
    }
   ],
   "source": [
    "data.chair_has_hallucination.value_counts()"
   ]
  },
  {
   "cell_type": "code",
   "execution_count": 8,
   "metadata": {},
   "outputs": [
    {
     "data": {
      "text/plain": [
       "chair_mentioned_objects_count\n",
       "0    2106\n",
       "1     755\n",
       "2     187\n",
       "3      57\n",
       "4      16\n",
       "5       3\n",
       "6       1\n",
       "Name: count, dtype: int64"
      ]
     },
     "execution_count": 8,
     "metadata": {},
     "output_type": "execute_result"
    }
   ],
   "source": [
    "data.chair_mentioned_objects_count.value_counts()"
   ]
  },
  {
   "cell_type": "code",
   "execution_count": 9,
   "metadata": {},
   "outputs": [],
   "source": [
    "data['chair_regression_score'] = data.chair_hallucinated_objects_count / data.chair_mentioned_objects_count"
   ]
  },
  {
   "cell_type": "code",
   "execution_count": 10,
   "metadata": {},
   "outputs": [
    {
     "data": {
      "text/plain": [
       "<Axes: ylabel='Density'>"
      ]
     },
     "execution_count": 10,
     "metadata": {},
     "output_type": "execute_result"
    },
    {
     "data": {
      "image/png": "[encoded data removed]",
      "text/plain": [
       "<Figure size 640x480 with 1 Axes>"
      ]
     },
     "metadata": {},
     "output_type": "display_data"
    }
   ],
   "source": [
    "data.chair_regression_score.plot(kind='kde')"
   ]
  },
  {
   "cell_type": "code",
   "execution_count": 11,
   "metadata": {},
   "outputs": [
    {
     "name": "stdout",
     "output_type": "stream",
     "text": [
      "<class 'pandas.core.series.Series'>\n",
      "RangeIndex: 3125 entries, 0 to 3124\n",
      "Series name: chair_regression_score\n",
      "Non-Null Count  Dtype  \n",
      "--------------  -----  \n",
      "1019 non-null   float64\n",
      "dtypes: float64(1)\n",
      "memory usage: 24.5 KB\n"
     ]
    }
   ],
   "source": [
    "data.chair_regression_score.info()"
   ]
  },
  {
   "cell_type": "code",
   "execution_count": 12,
   "metadata": {},
   "outputs": [
    {
     "data": {
      "text/html": [
       "<div>\n",
       "<style scoped>\n",
       "    .dataframe tbody tr th:only-of-type {\n",
       "        vertical-align: middle;\n",
       "    }\n",
       "\n",
       "    .dataframe tbody tr th {\n",
       "        vertical-align: top;\n",
       "    }\n",
       "\n",
       "    .dataframe thead th {\n",
       "        text-align: right;\n",
       "    }\n",
       "</style>\n",
       "<table border=\"1\" class=\"dataframe\">\n",
       "  <thead>\n",
       "    <tr style=\"text-align: right;\">\n",
       "      <th></th>\n",
       "      <th>BLEU-1</th>\n",
       "      <th>BLEU-2</th>\n",
       "      <th>BLEU-3</th>\n",
       "      <th>BLEU-4</th>\n",
       "      <th>CIDEr</th>\n",
       "      <th>METEOR</th>\n",
       "      <th>generated_caption</th>\n",
       "      <th>image_id</th>\n",
       "      <th>chair_hallucinated_objects_count</th>\n",
       "      <th>chair_hallucinated_objects_list</th>\n",
       "      <th>chair_has_hallucination</th>\n",
       "      <th>chair_mentioned_objects_count</th>\n",
       "      <th>chair_regression_score</th>\n",
       "    </tr>\n",
       "  </thead>\n",
       "  <tbody>\n",
       "    <tr>\n",
       "      <th>0</th>\n",
       "      <td>8.333333e-17</td>\n",
       "      <td>8.703883e-17</td>\n",
       "      <td>9.116092e-17</td>\n",
       "      <td>9.578464e-17</td>\n",
       "      <td>0.000000</td>\n",
       "      <td>0.040336</td>\n",
       "      <td>How does the image make you feel? What do you ...</td>\n",
       "      <td>COCO_train2014_000000000009</td>\n",
       "      <td>0</td>\n",
       "      <td>NaN</td>\n",
       "      <td>0</td>\n",
       "      <td>0</td>\n",
       "      <td>NaN</td>\n",
       "    </tr>\n",
       "    <tr>\n",
       "      <th>1</th>\n",
       "      <td>4.104250e-02</td>\n",
       "      <td>1.835476e-09</td>\n",
       "      <td>6.515091e-09</td>\n",
       "      <td>1.227457e-08</td>\n",
       "      <td>0.210163</td>\n",
       "      <td>0.082474</td>\n",
       "      <td>giraffe&lt;eos&gt;</td>\n",
       "      <td>COCO_train2014_000000000025</td>\n",
       "      <td>0</td>\n",
       "      <td>NaN</td>\n",
       "      <td>0</td>\n",
       "      <td>1</td>\n",
       "      <td>0.0</td>\n",
       "    </tr>\n",
       "    <tr>\n",
       "      <th>2</th>\n",
       "      <td>1.111111e-16</td>\n",
       "      <td>1.178511e-16</td>\n",
       "      <td>1.256579e-16</td>\n",
       "      <td>1.348511e-16</td>\n",
       "      <td>0.000000</td>\n",
       "      <td>0.015686</td>\n",
       "      <td>Do not include words that are not necessary.&lt;eos&gt;</td>\n",
       "      <td>COCO_train2014_000000000030</td>\n",
       "      <td>0</td>\n",
       "      <td>NaN</td>\n",
       "      <td>0</td>\n",
       "      <td>0</td>\n",
       "      <td>NaN</td>\n",
       "    </tr>\n",
       "    <tr>\n",
       "      <th>3</th>\n",
       "      <td>1.238397e-01</td>\n",
       "      <td>4.229931e-09</td>\n",
       "      <td>1.458427e-11</td>\n",
       "      <td>9.054993e-13</td>\n",
       "      <td>0.000836</td>\n",
       "      <td>0.042911</td>\n",
       "      <td>How can you describe the image?&lt;eos&gt;</td>\n",
       "      <td>COCO_train2014_000000000034</td>\n",
       "      <td>0</td>\n",
       "      <td>NaN</td>\n",
       "      <td>0</td>\n",
       "      <td>0</td>\n",
       "      <td>NaN</td>\n",
       "    </tr>\n",
       "    <tr>\n",
       "      <th>4</th>\n",
       "      <td>7.692308e-02</td>\n",
       "      <td>2.531848e-09</td>\n",
       "      <td>8.352713e-12</td>\n",
       "      <td>4.913271e-13</td>\n",
       "      <td>0.000209</td>\n",
       "      <td>0.077890</td>\n",
       "      <td>How do you know? What makes you think that's t...</td>\n",
       "      <td>COCO_train2014_000000000036</td>\n",
       "      <td>0</td>\n",
       "      <td>NaN</td>\n",
       "      <td>0</td>\n",
       "      <td>0</td>\n",
       "      <td>NaN</td>\n",
       "    </tr>\n",
       "  </tbody>\n",
       "</table>\n",
       "</div>"
      ],
      "text/plain": [
       "         BLEU-1        BLEU-2        BLEU-3        BLEU-4     CIDEr    METEOR  \\\n",
       "0  8.333333e-17  8.703883e-17  9.116092e-17  9.578464e-17  0.000000  0.040336   \n",
       "1  4.104250e-02  1.835476e-09  6.515091e-09  1.227457e-08  0.210163  0.082474   \n",
       "2  1.111111e-16  1.178511e-16  1.256579e-16  1.348511e-16  0.000000  0.015686   \n",
       "3  1.238397e-01  4.229931e-09  1.458427e-11  9.054993e-13  0.000836  0.042911   \n",
       "4  7.692308e-02  2.531848e-09  8.352713e-12  4.913271e-13  0.000209  0.077890   \n",
       "\n",
       "                                   generated_caption  \\\n",
       "0  How does the image make you feel? What do you ...   \n",
       "1                                       giraffe<eos>   \n",
       "2  Do not include words that are not necessary.<eos>   \n",
       "3               How can you describe the image?<eos>   \n",
       "4  How do you know? What makes you think that's t...   \n",
       "\n",
       "                      image_id  chair_hallucinated_objects_count  \\\n",
       "0  COCO_train2014_000000000009                                 0   \n",
       "1  COCO_train2014_000000000025                                 0   \n",
       "2  COCO_train2014_000000000030                                 0   \n",
       "3  COCO_train2014_000000000034                                 0   \n",
       "4  COCO_train2014_000000000036                                 0   \n",
       "\n",
       "  chair_hallucinated_objects_list  chair_has_hallucination  \\\n",
       "0                             NaN                        0   \n",
       "1                             NaN                        0   \n",
       "2                             NaN                        0   \n",
       "3                             NaN                        0   \n",
       "4                             NaN                        0   \n",
       "\n",
       "   chair_mentioned_objects_count  chair_regression_score  \n",
       "0                              0                     NaN  \n",
       "1                              1                     0.0  \n",
       "2                              0                     NaN  \n",
       "3                              0                     NaN  \n",
       "4                              0                     NaN  "
      ]
     },
     "execution_count": 12,
     "metadata": {},
     "output_type": "execute_result"
    }
   ],
   "source": [
    "data.head()"
   ]
  },
  {
   "cell_type": "code",
   "execution_count": 13,
   "metadata": {},
   "outputs": [],
   "source": [
    "data.dropna(subset=[\"chair_regression_score\"], inplace=True)"
   ]
  },
  {
   "cell_type": "code",
   "execution_count": 14,
   "metadata": {},
   "outputs": [
    {
     "name": "stdout",
     "output_type": "stream",
     "text": [
      "<class 'pandas.core.frame.DataFrame'>\n",
      "Index: 1019 entries, 1 to 3121\n",
      "Data columns (total 13 columns):\n",
      " #   Column                            Non-Null Count  Dtype  \n",
      "---  ------                            --------------  -----  \n",
      " 0   BLEU-1                            1019 non-null   float64\n",
      " 1   BLEU-2                            1019 non-null   float64\n",
      " 2   BLEU-3                            1019 non-null   float64\n",
      " 3   BLEU-4                            1019 non-null   float64\n",
      " 4   CIDEr                             1019 non-null   float64\n",
      " 5   METEOR                            1019 non-null   float64\n",
      " 6   generated_caption                 1019 non-null   object \n",
      " 7   image_id                          1019 non-null   object \n",
      " 8   chair_hallucinated_objects_count  1019 non-null   int64  \n",
      " 9   chair_hallucinated_objects_list   180 non-null    object \n",
      " 10  chair_has_hallucination           1019 non-null   int64  \n",
      " 11  chair_mentioned_objects_count     1019 non-null   int64  \n",
      " 12  chair_regression_score            1019 non-null   float64\n",
      "dtypes: float64(7), int64(3), object(3)\n",
      "memory usage: 111.5+ KB\n"
     ]
    }
   ],
   "source": [
    "data.info()\n"
   ]
  },
  {
   "cell_type": "code",
   "execution_count": 15,
   "metadata": {},
   "outputs": [],
   "source": [
    "data.to_csv(\"labels_paligemma_f.csv\", index=False)"
   ]
  },
  {
   "cell_type": "code",
   "execution_count": 21,
   "metadata": {},
   "outputs": [
    {
     "name": "stdout",
     "output_type": "stream",
     "text": [
      "['generated_caption', 'image_id', 'post_generation', 'pre_generation', 'tokens_length', 'vision_embeddings']\n",
      "['layer_0', 'layer_1', 'layer_16']\n",
      "['image_embeddings', 'query_embeddings']\n",
      "2048\n"
     ]
    }
   ],
   "source": [
    "\n",
    "import h5py\n",
    "f = h5py.File('/root/project/Thesis_LLAVA/keen_probe/keen_data/paligemma_extracted_embeddings/generation_embeddings.h5', 'r')\n",
    "print(list(f['COCO_train2014_000000000009'].keys()))\n",
    "print(list(f['COCO_train2014_000000000009']['pre_generation'].keys()))\n",
    "print(list(f['COCO_train2014_000000000009']['pre_generation']['layer_0'].keys()))\n",
    "print(len(f['COCO_train2014_000000000009']['pre_generation']['layer_0']['image_embeddings']))\n"
   ]
  },
  {
   "cell_type": "code",
   "execution_count": 22,
   "metadata": {},
   "outputs": [
    {
     "name": "stdout",
     "output_type": "stream",
     "text": [
      "Group exists: True\n",
      "pre_generation exists: True\n",
      "layer_0 exists: True\n",
      "image_embeddings exists: True\n"
     ]
    }
   ],
   "source": [
    "import h5py\n",
    "\n",
    "h5_path = \"/root/project/Thesis_LLAVA/keen_probe/keen_data/paligemma_extracted_embeddings/generation_embeddings.h5\"\n",
    "image_id = \"COCO_train2014_000000022080\"\n",
    "\n",
    "with h5py.File(h5_path, \"r\") as f:\n",
    "    print(\"Group exists:\", image_id in f)\n",
    "    if image_id in f:\n",
    "        print(\"pre_generation exists:\", \"pre_generation\" in f[image_id])\n",
    "        if \"pre_generation\" in f[image_id]:\n",
    "            print(\"layer_0 exists:\", \"layer_0\" in f[image_id][\"pre_generation\"])\n",
    "            if \"layer_0\" in f[image_id][\"pre_generation\"]:\n",
    "                print(\"image_embeddings exists:\", \"image_embeddings\" in f[image_id][\"pre_generation\"][\"layer_0\"])"
   ]
  },
  {
   "cell_type": "code",
   "execution_count": null,
   "metadata": {},
   "outputs": [],
   "source": [
    "COCO_train2014_000000000009"
   ]
  },
  {
   "cell_type": "code",
   "execution_count": null,
   "metadata": {},
   "outputs": [],
   "source": [
    "COCO_train2014_000000000009"
   ]
  },
  {
   "cell_type": "code",
   "execution_count": null,
   "metadata": {},
   "outputs": [],
   "source": [
    "COCO_train2014_000000000009"
   ]
  },
  {
   "cell_type": "code",
   "execution_count": null,
   "metadata": {},
   "outputs": [],
   "source": []
  },
  {
   "cell_type": "code",
   "execution_count": null,
   "metadata": {},
   "outputs": [],
   "source": []
  },
  {
   "cell_type": "code",
   "execution_count": null,
   "metadata": {},
   "outputs": [],
   "source": []
  }
 ],
 "metadata": {
  "kernelspec": {
   "display_name": "keen1",
   "language": "python",
   "name": "python3"
  },
  "language_info": {
   "codemirror_mode": {
    "name": "ipython",
    "version": 3
   },
   "file_extension": ".py",
   "mimetype": "text/x-python",
   "name": "python",
   "nbconvert_exporter": "python",
   "pygments_lexer": "ipython3",
   "version": "3.10.14"
  }
 },
 "nbformat": 4,
 "nbformat_minor": 2
}
