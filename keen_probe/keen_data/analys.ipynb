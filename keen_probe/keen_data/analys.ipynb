{
 "cells": [
  {
   "cell_type": "code",
   "execution_count": 12,
   "metadata": {},
   "outputs": [],
   "source": [
    "import numpy as np \n",
    "import pandas as pd\n",
    "import matplotlib.pyplot as plt"
   ]
  },
  {
   "cell_type": "code",
   "execution_count": 3,
   "metadata": {},
   "outputs": [],
   "source": [
    "data = pd.read_csv(\"labels.csv\")"
   ]
  },
  {
   "cell_type": "code",
   "execution_count": 4,
   "metadata": {},
   "outputs": [
    {
     "data": {
      "text/html": [
       "<div>\n",
       "<style scoped>\n",
       "    .dataframe tbody tr th:only-of-type {\n",
       "        vertical-align: middle;\n",
       "    }\n",
       "\n",
       "    .dataframe tbody tr th {\n",
       "        vertical-align: top;\n",
       "    }\n",
       "\n",
       "    .dataframe thead th {\n",
       "        text-align: right;\n",
       "    }\n",
       "</style>\n",
       "<table border=\"1\" class=\"dataframe\">\n",
       "  <thead>\n",
       "    <tr style=\"text-align: right;\">\n",
       "      <th></th>\n",
       "      <th>BLEU-1</th>\n",
       "      <th>BLEU-2</th>\n",
       "      <th>BLEU-3</th>\n",
       "      <th>BLEU-4</th>\n",
       "      <th>CIDEr</th>\n",
       "      <th>METEOR</th>\n",
       "      <th>generated_caption</th>\n",
       "      <th>image_id</th>\n",
       "      <th>chair_hallucinated_objects_count</th>\n",
       "      <th>chair_hallucinated_objects_list</th>\n",
       "      <th>chair_has_hallucination</th>\n",
       "      <th>chair_mentioned_objects_count</th>\n",
       "    </tr>\n",
       "  </thead>\n",
       "  <tbody>\n",
       "    <tr>\n",
       "      <th>0</th>\n",
       "      <td>0.857143</td>\n",
       "      <td>0.574169</td>\n",
       "      <td>0.301740</td>\n",
       "      <td>0.000040</td>\n",
       "      <td>1.117483</td>\n",
       "      <td>0.330889</td>\n",
       "      <td>A tent is set up in a wooded area, with a car ...</td>\n",
       "      <td>COCO_train2014_000000412508</td>\n",
       "      <td>0</td>\n",
       "      <td>NaN</td>\n",
       "      <td>0</td>\n",
       "      <td>1</td>\n",
       "    </tr>\n",
       "    <tr>\n",
       "      <th>1</th>\n",
       "      <td>0.600000</td>\n",
       "      <td>0.358569</td>\n",
       "      <td>0.214651</td>\n",
       "      <td>0.000030</td>\n",
       "      <td>0.238908</td>\n",
       "      <td>0.122525</td>\n",
       "      <td>A bathroom sink with a potted plant, bottles o...</td>\n",
       "      <td>COCO_train2014_000000412516</td>\n",
       "      <td>2</td>\n",
       "      <td>potted plant;sink</td>\n",
       "      <td>1</td>\n",
       "      <td>3</td>\n",
       "    </tr>\n",
       "    <tr>\n",
       "      <th>2</th>\n",
       "      <td>0.600000</td>\n",
       "      <td>0.414039</td>\n",
       "      <td>0.297662</td>\n",
       "      <td>0.216520</td>\n",
       "      <td>0.637103</td>\n",
       "      <td>0.317307</td>\n",
       "      <td>A cozy living room with a fireplace, a couch, ...</td>\n",
       "      <td>COCO_train2014_000000412518</td>\n",
       "      <td>1</td>\n",
       "      <td>potted plant</td>\n",
       "      <td>1</td>\n",
       "      <td>3</td>\n",
       "    </tr>\n",
       "    <tr>\n",
       "      <th>3</th>\n",
       "      <td>0.733333</td>\n",
       "      <td>0.560612</td>\n",
       "      <td>0.417030</td>\n",
       "      <td>0.278824</td>\n",
       "      <td>0.495129</td>\n",
       "      <td>0.295474</td>\n",
       "      <td>A man is performing a trick on a skateboard in...</td>\n",
       "      <td>COCO_train2014_000000412519</td>\n",
       "      <td>0</td>\n",
       "      <td>NaN</td>\n",
       "      <td>0</td>\n",
       "      <td>3</td>\n",
       "    </tr>\n",
       "    <tr>\n",
       "      <th>4</th>\n",
       "      <td>0.578947</td>\n",
       "      <td>0.439298</td>\n",
       "      <td>0.283161</td>\n",
       "      <td>0.000035</td>\n",
       "      <td>0.310155</td>\n",
       "      <td>0.348253</td>\n",
       "      <td>A fire truck is parked in a garage with a red ...</td>\n",
       "      <td>COCO_train2014_000000412525</td>\n",
       "      <td>0</td>\n",
       "      <td>NaN</td>\n",
       "      <td>0</td>\n",
       "      <td>1</td>\n",
       "    </tr>\n",
       "  </tbody>\n",
       "</table>\n",
       "</div>"
      ],
      "text/plain": [
       "     BLEU-1    BLEU-2    BLEU-3    BLEU-4     CIDEr    METEOR  \\\n",
       "0  0.857143  0.574169  0.301740  0.000040  1.117483  0.330889   \n",
       "1  0.600000  0.358569  0.214651  0.000030  0.238908  0.122525   \n",
       "2  0.600000  0.414039  0.297662  0.216520  0.637103  0.317307   \n",
       "3  0.733333  0.560612  0.417030  0.278824  0.495129  0.295474   \n",
       "4  0.578947  0.439298  0.283161  0.000035  0.310155  0.348253   \n",
       "\n",
       "                                   generated_caption  \\\n",
       "0  A tent is set up in a wooded area, with a car ...   \n",
       "1  A bathroom sink with a potted plant, bottles o...   \n",
       "2  A cozy living room with a fireplace, a couch, ...   \n",
       "3  A man is performing a trick on a skateboard in...   \n",
       "4  A fire truck is parked in a garage with a red ...   \n",
       "\n",
       "                      image_id  chair_hallucinated_objects_count  \\\n",
       "0  COCO_train2014_000000412508                                 0   \n",
       "1  COCO_train2014_000000412516                                 2   \n",
       "2  COCO_train2014_000000412518                                 1   \n",
       "3  COCO_train2014_000000412519                                 0   \n",
       "4  COCO_train2014_000000412525                                 0   \n",
       "\n",
       "  chair_hallucinated_objects_list  chair_has_hallucination  \\\n",
       "0                             NaN                        0   \n",
       "1               potted plant;sink                        1   \n",
       "2                    potted plant                        1   \n",
       "3                             NaN                        0   \n",
       "4                             NaN                        0   \n",
       "\n",
       "   chair_mentioned_objects_count  \n",
       "0                              1  \n",
       "1                              3  \n",
       "2                              3  \n",
       "3                              3  \n",
       "4                              1  "
      ]
     },
     "execution_count": 4,
     "metadata": {},
     "output_type": "execute_result"
    }
   ],
   "source": [
    "data.head()"
   ]
  },
  {
   "cell_type": "code",
   "execution_count": 6,
   "metadata": {},
   "outputs": [
    {
     "name": "stdout",
     "output_type": "stream",
     "text": [
      "<class 'pandas.core.frame.DataFrame'>\n",
      "RangeIndex: 72000 entries, 0 to 71999\n",
      "Data columns (total 12 columns):\n",
      " #   Column                            Non-Null Count  Dtype  \n",
      "---  ------                            --------------  -----  \n",
      " 0   BLEU-1                            72000 non-null  float64\n",
      " 1   BLEU-2                            72000 non-null  float64\n",
      " 2   BLEU-3                            72000 non-null  float64\n",
      " 3   BLEU-4                            72000 non-null  float64\n",
      " 4   CIDEr                             72000 non-null  float64\n",
      " 5   METEOR                            72000 non-null  float64\n",
      " 6   generated_caption                 72000 non-null  object \n",
      " 7   image_id                          72000 non-null  object \n",
      " 8   chair_hallucinated_objects_count  72000 non-null  int64  \n",
      " 9   chair_hallucinated_objects_list   12354 non-null  object \n",
      " 10  chair_has_hallucination           72000 non-null  int64  \n",
      " 11  chair_mentioned_objects_count     72000 non-null  int64  \n",
      "dtypes: float64(6), int64(3), object(3)\n",
      "memory usage: 6.6+ MB\n"
     ]
    }
   ],
   "source": [
    "data.info()\n"
   ]
  },
  {
   "cell_type": "code",
   "execution_count": 7,
   "metadata": {},
   "outputs": [
    {
     "data": {
      "text/plain": [
       "chair_hallucinated_objects_count\n",
       "0    59646\n",
       "1    10047\n",
       "2     1731\n",
       "3      377\n",
       "4      138\n",
       "5       47\n",
       "6       13\n",
       "7        1\n",
       "Name: count, dtype: int64"
      ]
     },
     "execution_count": 7,
     "metadata": {},
     "output_type": "execute_result"
    }
   ],
   "source": [
    "data.chair_hallucinated_objects_count.value_counts()"
   ]
  },
  {
   "cell_type": "code",
   "execution_count": 8,
   "metadata": {},
   "outputs": [
    {
     "data": {
      "text/plain": [
       "chair_has_hallucination\n",
       "0    59646\n",
       "1    12354\n",
       "Name: count, dtype: int64"
      ]
     },
     "execution_count": 8,
     "metadata": {},
     "output_type": "execute_result"
    }
   ],
   "source": [
    "data.chair_has_hallucination.value_counts()"
   ]
  },
  {
   "cell_type": "code",
   "execution_count": 9,
   "metadata": {},
   "outputs": [
    {
     "data": {
      "text/plain": [
       "chair_mentioned_objects_count\n",
       "1    28563\n",
       "2    28190\n",
       "3     8760\n",
       "0     4568\n",
       "4     1462\n",
       "5      311\n",
       "6       97\n",
       "7       40\n",
       "8        8\n",
       "9        1\n",
       "Name: count, dtype: int64"
      ]
     },
     "execution_count": 9,
     "metadata": {},
     "output_type": "execute_result"
    }
   ],
   "source": [
    "data.chair_mentioned_objects_count.value_counts()"
   ]
  },
  {
   "cell_type": "code",
   "execution_count": 10,
   "metadata": {},
   "outputs": [],
   "source": [
    "data['chair_regression_score'] = data.chair_hallucinated_objects_count / data.chair_mentioned_objects_count"
   ]
  },
  {
   "cell_type": "code",
   "execution_count": 14,
   "metadata": {},
   "outputs": [
    {
     "data": {
      "text/plain": [
       "<Axes: ylabel='Density'>"
      ]
     },
     "execution_count": 14,
     "metadata": {},
     "output_type": "execute_result"
    },
    {
     "data": {
      "image/png": "[encoded data removed]",
      "text/plain": [
       "<Figure size 640x480 with 1 Axes>"
      ]
     },
     "metadata": {},
     "output_type": "display_data"
    }
   ],
   "source": [
    "data.chair_regression_score.plot(kind='kde')"
   ]
  },
  {
   "cell_type": "code",
   "execution_count": 17,
   "metadata": {},
   "outputs": [
    {
     "name": "stdout",
     "output_type": "stream",
     "text": [
      "<class 'pandas.core.series.Series'>\n",
      "RangeIndex: 72000 entries, 0 to 71999\n",
      "Series name: chair_regression_score\n",
      "Non-Null Count  Dtype  \n",
      "--------------  -----  \n",
      "67432 non-null  float64\n",
      "dtypes: float64(1)\n",
      "memory usage: 562.6 KB\n"
     ]
    }
   ],
   "source": [
    "data.chair_regression_score.info()"
   ]
  },
  {
   "cell_type": "code",
   "execution_count": 15,
   "metadata": {},
   "outputs": [
    {
     "data": {
      "text/html": [
       "<div>\n",
       "<style scoped>\n",
       "    .dataframe tbody tr th:only-of-type {\n",
       "        vertical-align: middle;\n",
       "    }\n",
       "\n",
       "    .dataframe tbody tr th {\n",
       "        vertical-align: top;\n",
       "    }\n",
       "\n",
       "    .dataframe thead th {\n",
       "        text-align: right;\n",
       "    }\n",
       "</style>\n",
       "<table border=\"1\" class=\"dataframe\">\n",
       "  <thead>\n",
       "    <tr style=\"text-align: right;\">\n",
       "      <th></th>\n",
       "      <th>BLEU-1</th>\n",
       "      <th>BLEU-2</th>\n",
       "      <th>BLEU-3</th>\n",
       "      <th>BLEU-4</th>\n",
       "      <th>CIDEr</th>\n",
       "      <th>METEOR</th>\n",
       "      <th>generated_caption</th>\n",
       "      <th>image_id</th>\n",
       "      <th>chair_hallucinated_objects_count</th>\n",
       "      <th>chair_hallucinated_objects_list</th>\n",
       "      <th>chair_has_hallucination</th>\n",
       "      <th>chair_mentioned_objects_count</th>\n",
       "      <th>chair_regression_score</th>\n",
       "    </tr>\n",
       "  </thead>\n",
       "  <tbody>\n",
       "    <tr>\n",
       "      <th>0</th>\n",
       "      <td>0.857143</td>\n",
       "      <td>0.574169</td>\n",
       "      <td>0.301740</td>\n",
       "      <td>0.000040</td>\n",
       "      <td>1.117483</td>\n",
       "      <td>0.330889</td>\n",
       "      <td>A tent is set up in a wooded area, with a car ...</td>\n",
       "      <td>COCO_train2014_000000412508</td>\n",
       "      <td>0</td>\n",
       "      <td>NaN</td>\n",
       "      <td>0</td>\n",
       "      <td>1</td>\n",
       "      <td>0.000000</td>\n",
       "    </tr>\n",
       "    <tr>\n",
       "      <th>1</th>\n",
       "      <td>0.600000</td>\n",
       "      <td>0.358569</td>\n",
       "      <td>0.214651</td>\n",
       "      <td>0.000030</td>\n",
       "      <td>0.238908</td>\n",
       "      <td>0.122525</td>\n",
       "      <td>A bathroom sink with a potted plant, bottles o...</td>\n",
       "      <td>COCO_train2014_000000412516</td>\n",
       "      <td>2</td>\n",
       "      <td>potted plant;sink</td>\n",
       "      <td>1</td>\n",
       "      <td>3</td>\n",
       "      <td>0.666667</td>\n",
       "    </tr>\n",
       "    <tr>\n",
       "      <th>2</th>\n",
       "      <td>0.600000</td>\n",
       "      <td>0.414039</td>\n",
       "      <td>0.297662</td>\n",
       "      <td>0.216520</td>\n",
       "      <td>0.637103</td>\n",
       "      <td>0.317307</td>\n",
       "      <td>A cozy living room with a fireplace, a couch, ...</td>\n",
       "      <td>COCO_train2014_000000412518</td>\n",
       "      <td>1</td>\n",
       "      <td>potted plant</td>\n",
       "      <td>1</td>\n",
       "      <td>3</td>\n",
       "      <td>0.333333</td>\n",
       "    </tr>\n",
       "    <tr>\n",
       "      <th>3</th>\n",
       "      <td>0.733333</td>\n",
       "      <td>0.560612</td>\n",
       "      <td>0.417030</td>\n",
       "      <td>0.278824</td>\n",
       "      <td>0.495129</td>\n",
       "      <td>0.295474</td>\n",
       "      <td>A man is performing a trick on a skateboard in...</td>\n",
       "      <td>COCO_train2014_000000412519</td>\n",
       "      <td>0</td>\n",
       "      <td>NaN</td>\n",
       "      <td>0</td>\n",
       "      <td>3</td>\n",
       "      <td>0.000000</td>\n",
       "    </tr>\n",
       "    <tr>\n",
       "      <th>4</th>\n",
       "      <td>0.578947</td>\n",
       "      <td>0.439298</td>\n",
       "      <td>0.283161</td>\n",
       "      <td>0.000035</td>\n",
       "      <td>0.310155</td>\n",
       "      <td>0.348253</td>\n",
       "      <td>A fire truck is parked in a garage with a red ...</td>\n",
       "      <td>COCO_train2014_000000412525</td>\n",
       "      <td>0</td>\n",
       "      <td>NaN</td>\n",
       "      <td>0</td>\n",
       "      <td>1</td>\n",
       "      <td>0.000000</td>\n",
       "    </tr>\n",
       "  </tbody>\n",
       "</table>\n",
       "</div>"
      ],
      "text/plain": [
       "     BLEU-1    BLEU-2    BLEU-3    BLEU-4     CIDEr    METEOR  \\\n",
       "0  0.857143  0.574169  0.301740  0.000040  1.117483  0.330889   \n",
       "1  0.600000  0.358569  0.214651  0.000030  0.238908  0.122525   \n",
       "2  0.600000  0.414039  0.297662  0.216520  0.637103  0.317307   \n",
       "3  0.733333  0.560612  0.417030  0.278824  0.495129  0.295474   \n",
       "4  0.578947  0.439298  0.283161  0.000035  0.310155  0.348253   \n",
       "\n",
       "                                   generated_caption  \\\n",
       "0  A tent is set up in a wooded area, with a car ...   \n",
       "1  A bathroom sink with a potted plant, bottles o...   \n",
       "2  A cozy living room with a fireplace, a couch, ...   \n",
       "3  A man is performing a trick on a skateboard in...   \n",
       "4  A fire truck is parked in a garage with a red ...   \n",
       "\n",
       "                      image_id  chair_hallucinated_objects_count  \\\n",
       "0  COCO_train2014_000000412508                                 0   \n",
       "1  COCO_train2014_000000412516                                 2   \n",
       "2  COCO_train2014_000000412518                                 1   \n",
       "3  COCO_train2014_000000412519                                 0   \n",
       "4  COCO_train2014_000000412525                                 0   \n",
       "\n",
       "  chair_hallucinated_objects_list  chair_has_hallucination  \\\n",
       "0                             NaN                        0   \n",
       "1               potted plant;sink                        1   \n",
       "2                    potted plant                        1   \n",
       "3                             NaN                        0   \n",
       "4                             NaN                        0   \n",
       "\n",
       "   chair_mentioned_objects_count  chair_regression_score  \n",
       "0                              1                0.000000  \n",
       "1                              3                0.666667  \n",
       "2                              3                0.333333  \n",
       "3                              3                0.000000  \n",
       "4                              1                0.000000  "
      ]
     },
     "execution_count": 15,
     "metadata": {},
     "output_type": "execute_result"
    }
   ],
   "source": [
    "data.head()"
   ]
  },
  {
   "cell_type": "code",
   "execution_count": 18,
   "metadata": {},
   "outputs": [],
   "source": [
    "data.dropna(subset=[\"chair_regression_score\"], inplace=True)"
   ]
  },
  {
   "cell_type": "code",
   "execution_count": 19,
   "metadata": {},
   "outputs": [
    {
     "name": "stdout",
     "output_type": "stream",
     "text": [
      "<class 'pandas.core.frame.DataFrame'>\n",
      "Index: 67432 entries, 0 to 71999\n",
      "Data columns (total 13 columns):\n",
      " #   Column                            Non-Null Count  Dtype  \n",
      "---  ------                            --------------  -----  \n",
      " 0   BLEU-1                            67432 non-null  float64\n",
      " 1   BLEU-2                            67432 non-null  float64\n",
      " 2   BLEU-3                            67432 non-null  float64\n",
      " 3   BLEU-4                            67432 non-null  float64\n",
      " 4   CIDEr                             67432 non-null  float64\n",
      " 5   METEOR                            67432 non-null  float64\n",
      " 6   generated_caption                 67432 non-null  object \n",
      " 7   image_id                          67432 non-null  object \n",
      " 8   chair_hallucinated_objects_count  67432 non-null  int64  \n",
      " 9   chair_hallucinated_objects_list   12354 non-null  object \n",
      " 10  chair_has_hallucination           67432 non-null  int64  \n",
      " 11  chair_mentioned_objects_count     67432 non-null  int64  \n",
      " 12  chair_regression_score            67432 non-null  float64\n",
      "dtypes: float64(7), int64(3), object(3)\n",
      "memory usage: 7.2+ MB\n"
     ]
    }
   ],
   "source": [
    "data.info()"
   ]
  },
  {
   "cell_type": "code",
   "execution_count": 20,
   "metadata": {},
   "outputs": [],
   "source": [
    "data.to_csv(\"labels.csv\", index=False)"
   ]
  },
  {
   "cell_type": "code",
   "execution_count": 38,
   "metadata": {},
   "outputs": [
    {
     "name": "stdout",
     "output_type": "stream",
     "text": [
      "['step_1', 'step_2', 'step_3']\n",
      "17\n"
     ]
    }
   ],
   "source": [
    "\n",
    "import h5py\n",
    "for i in range(1,25):\n",
    "    try:\n",
    "        f = h5py.File('/root/projects/Thesis_LLAVA/keen_probe/keen_data/2014_extracted_embeddings/generation_embeddings_V41_part'+str(i)+'.h5', 'r')\n",
    "        print(list(f['COCO_train2014_000000484875']['post_generation'].keys()))\n",
    "        print(i)\n",
    "        print(list(f['COCO_train2014_000000484875']['post_generation']['step_final']['layer_0'].keys()))\n",
    "        len(list(f['COCO_train2014_000000042228']['post_generation']['step_final']['layer_0']['image_embeddings']))\n",
    "    except:\n",
    "        pass\n"
   ]
  },
  {
   "cell_type": "code",
   "execution_count": 40,
   "metadata": {},
   "outputs": [
    {
     "name": "stdout",
     "output_type": "stream",
     "text": [
      "['step_1', 'step_2', 'step_3']\n"
     ]
    },
    {
     "ename": "KeyError",
     "evalue": "\"Unable to synchronously open object (object 'step_final' doesn't exist)\"",
     "output_type": "error",
     "traceback": [
      "\u001b[0;31m---------------------------------------------------------------------------\u001b[0m",
      "\u001b[0;31mKeyError\u001b[0m                                  Traceback (most recent call last)",
      "Cell \u001b[0;32mIn[40], line 3\u001b[0m\n\u001b[1;32m      1\u001b[0m f \u001b[38;5;241m=\u001b[39m h5py\u001b[38;5;241m.\u001b[39mFile(\u001b[38;5;124m'\u001b[39m\u001b[38;5;124m/root/projects/Thesis_LLAVA/keen_probe/keen_data/2014_extracted_embeddings/generation_embeddings_V41_part17.h5\u001b[39m\u001b[38;5;124m'\u001b[39m, \u001b[38;5;124m'\u001b[39m\u001b[38;5;124mr\u001b[39m\u001b[38;5;124m'\u001b[39m)\n\u001b[1;32m      2\u001b[0m \u001b[38;5;28mprint\u001b[39m(\u001b[38;5;28mlist\u001b[39m(f[\u001b[38;5;124m'\u001b[39m\u001b[38;5;124mCOCO_train2014_000000484875\u001b[39m\u001b[38;5;124m'\u001b[39m][\u001b[38;5;124m'\u001b[39m\u001b[38;5;124mpost_generation\u001b[39m\u001b[38;5;124m'\u001b[39m]\u001b[38;5;241m.\u001b[39mkeys()))\n\u001b[0;32m----> 3\u001b[0m \u001b[38;5;28mprint\u001b[39m(\u001b[38;5;28mlist\u001b[39m(\u001b[43mf\u001b[49m\u001b[43m[\u001b[49m\u001b[38;5;124;43m'\u001b[39;49m\u001b[38;5;124;43mCOCO_train2014_000000484875\u001b[39;49m\u001b[38;5;124;43m'\u001b[39;49m\u001b[43m]\u001b[49m\u001b[43m[\u001b[49m\u001b[38;5;124;43m'\u001b[39;49m\u001b[38;5;124;43mpost_generation\u001b[39;49m\u001b[38;5;124;43m'\u001b[39;49m\u001b[43m]\u001b[49m\u001b[43m[\u001b[49m\u001b[38;5;124;43m'\u001b[39;49m\u001b[38;5;124;43mstep_final\u001b[39;49m\u001b[38;5;124;43m'\u001b[39;49m\u001b[43m]\u001b[49m[\u001b[38;5;124m'\u001b[39m\u001b[38;5;124mlayer_0\u001b[39m\u001b[38;5;124m'\u001b[39m]\u001b[38;5;241m.\u001b[39mkeys()))\n\u001b[1;32m      4\u001b[0m \u001b[38;5;28mlen\u001b[39m(\u001b[38;5;28mlist\u001b[39m(f[\u001b[38;5;124m'\u001b[39m\u001b[38;5;124mCOCO_train2014_000000042228\u001b[39m\u001b[38;5;124m'\u001b[39m][\u001b[38;5;124m'\u001b[39m\u001b[38;5;124mpost_generation\u001b[39m\u001b[38;5;124m'\u001b[39m][\u001b[38;5;124m'\u001b[39m\u001b[38;5;124mstep_final\u001b[39m\u001b[38;5;124m'\u001b[39m][\u001b[38;5;124m'\u001b[39m\u001b[38;5;124mlayer_0\u001b[39m\u001b[38;5;124m'\u001b[39m][\u001b[38;5;124m'\u001b[39m\u001b[38;5;124mimage_embeddings\u001b[39m\u001b[38;5;124m'\u001b[39m]))\n",
      "File \u001b[0;32mh5py/_objects.pyx:54\u001b[0m, in \u001b[0;36mh5py._objects.with_phil.wrapper\u001b[0;34m()\u001b[0m\n",
      "File \u001b[0;32mh5py/_objects.pyx:55\u001b[0m, in \u001b[0;36mh5py._objects.with_phil.wrapper\u001b[0;34m()\u001b[0m\n",
      "File \u001b[0;32m~/miniconda3/envs/keen/lib/python3.10/site-packages/h5py/_hl/group.py:357\u001b[0m, in \u001b[0;36mGroup.__getitem__\u001b[0;34m(self, name)\u001b[0m\n\u001b[1;32m    355\u001b[0m         \u001b[38;5;28;01mraise\u001b[39;00m \u001b[38;5;167;01mValueError\u001b[39;00m(\u001b[38;5;124m\"\u001b[39m\u001b[38;5;124mInvalid HDF5 object reference\u001b[39m\u001b[38;5;124m\"\u001b[39m)\n\u001b[1;32m    356\u001b[0m \u001b[38;5;28;01melif\u001b[39;00m \u001b[38;5;28misinstance\u001b[39m(name, (\u001b[38;5;28mbytes\u001b[39m, \u001b[38;5;28mstr\u001b[39m)):\n\u001b[0;32m--> 357\u001b[0m     oid \u001b[38;5;241m=\u001b[39m \u001b[43mh5o\u001b[49m\u001b[38;5;241;43m.\u001b[39;49m\u001b[43mopen\u001b[49m\u001b[43m(\u001b[49m\u001b[38;5;28;43mself\u001b[39;49m\u001b[38;5;241;43m.\u001b[39;49m\u001b[43mid\u001b[49m\u001b[43m,\u001b[49m\u001b[43m \u001b[49m\u001b[38;5;28;43mself\u001b[39;49m\u001b[38;5;241;43m.\u001b[39;49m\u001b[43m_e\u001b[49m\u001b[43m(\u001b[49m\u001b[43mname\u001b[49m\u001b[43m)\u001b[49m\u001b[43m,\u001b[49m\u001b[43m \u001b[49m\u001b[43mlapl\u001b[49m\u001b[38;5;241;43m=\u001b[39;49m\u001b[38;5;28;43mself\u001b[39;49m\u001b[38;5;241;43m.\u001b[39;49m\u001b[43m_lapl\u001b[49m\u001b[43m)\u001b[49m\n\u001b[1;32m    358\u001b[0m \u001b[38;5;28;01melse\u001b[39;00m:\n\u001b[1;32m    359\u001b[0m     \u001b[38;5;28;01mraise\u001b[39;00m \u001b[38;5;167;01mTypeError\u001b[39;00m(\u001b[38;5;124m\"\u001b[39m\u001b[38;5;124mAccessing a group is done with bytes or str, \u001b[39m\u001b[38;5;124m\"\u001b[39m\n\u001b[1;32m    360\u001b[0m                     \u001b[38;5;124m\"\u001b[39m\u001b[38;5;124mnot \u001b[39m\u001b[38;5;132;01m{}\u001b[39;00m\u001b[38;5;124m\"\u001b[39m\u001b[38;5;241m.\u001b[39mformat(\u001b[38;5;28mtype\u001b[39m(name)))\n",
      "File \u001b[0;32mh5py/_objects.pyx:54\u001b[0m, in \u001b[0;36mh5py._objects.with_phil.wrapper\u001b[0;34m()\u001b[0m\n",
      "File \u001b[0;32mh5py/_objects.pyx:55\u001b[0m, in \u001b[0;36mh5py._objects.with_phil.wrapper\u001b[0;34m()\u001b[0m\n",
      "File \u001b[0;32mh5py/h5o.pyx:257\u001b[0m, in \u001b[0;36mh5py.h5o.open\u001b[0;34m()\u001b[0m\n",
      "\u001b[0;31mKeyError\u001b[0m: \"Unable to synchronously open object (object 'step_final' doesn't exist)\""
     ]
    }
   ],
   "source": [
    "f = h5py.File('/root/projects/Thesis_LLAVA/keen_probe/keen_data/2014_extracted_embeddings/generation_embeddings_V41_part17.h5', 'r')\n",
    "print(list(f['COCO_train2014_000000484875']['post_generation'].keys()))\n",
    "print(list(f['COCO_train2014_000000484875']['post_generation']['step_final']['layer_0'].keys()))\n",
    "len(list(f['COCO_train2014_000000042228']['post_generation']['step_final']['layer_0']['image_embeddings']))\n"
   ]
  },
  {
   "cell_type": "code",
   "execution_count": null,
   "metadata": {},
   "outputs": [],
   "source": []
  },
  {
   "cell_type": "code",
   "execution_count": null,
   "metadata": {},
   "outputs": [],
   "source": []
  },
  {
   "cell_type": "code",
   "execution_count": null,
   "metadata": {},
   "outputs": [],
   "source": []
  }
 ],
 "metadata": {
  "kernelspec": {
   "display_name": "keen",
   "language": "python",
   "name": "python3"
  },
  "language_info": {
   "codemirror_mode": {
    "name": "ipython",
    "version": 3
   },
   "file_extension": ".py",
   "mimetype": "text/x-python",
   "name": "python",
   "nbconvert_exporter": "python",
   "pygments_lexer": "ipython3",
   "version": "3.10.14"
  }
 },
 "nbformat": 4,
 "nbformat_minor": 2
}
